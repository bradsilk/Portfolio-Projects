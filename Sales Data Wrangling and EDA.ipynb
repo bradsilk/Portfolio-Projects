{
 "cells": [
  {
   "cell_type": "markdown",
   "metadata": {},
   "source": [
    "### 1.) Import and Read Data"
   ]
  },
  {
   "cell_type": "code",
   "execution_count": 237,
   "metadata": {},
   "outputs": [],
   "source": [
    "#Data Manipulation\n",
    "import numpy as np\n",
    "import pandas as pd\n",
    "\n",
    "#Data Visualization\n",
    "import matplotlib.pyplot as plt\n",
    "import seaborn as sns\n",
    "%matplotlib inline"
   ]
  },
  {
   "cell_type": "code",
   "execution_count": 253,
   "metadata": {},
   "outputs": [],
   "source": [
    "xls = pd.ExcelFile('/Users/bradsilk/Desktop/Data Analysis Projects/Sales/US_Regional_Sales_Data ALTERED.xlsx')\n",
    "\n",
    "df_orders = pd.read_excel(xls, 'Sales Orders Sheet')\n",
    "df_cust = pd.read_excel(xls, 'Customers Sheet')\n",
    "df_loc = pd.read_excel(xls, 'Store Locations Sheet')\n",
    "df_prod = pd.read_excel(xls, 'Products Sheet')\n",
    "df_region = pd.read_excel(xls, 'Regions Sheet')\n",
    "df_team = pd.read_excel(xls, 'Sales Team Sheet')"
   ]
  },
  {
   "cell_type": "markdown",
   "metadata": {},
   "source": [
    "---"
   ]
  },
  {
   "cell_type": "markdown",
   "metadata": {},
   "source": [
    "### 2.) Understanding the Dataframes"
   ]
  },
  {
   "cell_type": "code",
   "execution_count": 244,
   "metadata": {},
   "outputs": [
    {
     "data": {
      "text/plain": [
       "(7988, 16)"
      ]
     },
     "execution_count": 244,
     "metadata": {},
     "output_type": "execute_result"
    }
   ],
   "source": [
    "#Determine row and column count of df_orders, the main dataframe we'll be working with:\n",
    "\n",
    "df_orders.shape"
   ]
  },
  {
   "cell_type": "code",
   "execution_count": 1237,
   "metadata": {},
   "outputs": [
    {
     "data": {
      "text/plain": [
       "Index(['OrderNumber', 'Sales Channel', 'WarehouseCode', 'ProcuredDate',\n",
       "       'OrderDate', 'ShipDate', 'DeliveryDate', 'CurrencyCode', '_SalesTeamID',\n",
       "       '_CustomerID', '_StoreID', '_ProductID', 'Order Quantity',\n",
       "       'Discount Applied', 'Unit Price', 'Unit Cost', 'Profit'],\n",
       "      dtype='object')"
      ]
     },
     "execution_count": 1237,
     "metadata": {},
     "output_type": "execute_result"
    }
   ],
   "source": [
    "#Checking the columns present in df_orders:\n",
    "\n",
    "df_orders.columns"
   ]
  },
  {
   "cell_type": "code",
   "execution_count": 245,
   "metadata": {},
   "outputs": [
    {
     "name": "stdout",
     "output_type": "stream",
     "text": [
      "<class 'pandas.core.frame.DataFrame'>\n",
      "Int64Index: 7988 entries, 0 to 7990\n",
      "Data columns (total 16 columns):\n",
      " #   Column            Non-Null Count  Dtype         \n",
      "---  ------            --------------  -----         \n",
      " 0   OrderNumber       7988 non-null   object        \n",
      " 1   Sales Channel     7988 non-null   object        \n",
      " 2   WarehouseCode     7978 non-null   object        \n",
      " 3   ProcuredDate      7975 non-null   datetime64[ns]\n",
      " 4   OrderDate         7978 non-null   datetime64[ns]\n",
      " 5   ShipDate          7980 non-null   datetime64[ns]\n",
      " 6   DeliveryDate      7980 non-null   datetime64[ns]\n",
      " 7   CurrencyCode      7976 non-null   object        \n",
      " 8   _SalesTeamID      7980 non-null   float64       \n",
      " 9   _CustomerID       7977 non-null   float64       \n",
      " 10  _StoreID          7979 non-null   float64       \n",
      " 11  _ProductID        7984 non-null   float64       \n",
      " 12  Order Quantity    7988 non-null   int64         \n",
      " 13  Discount Applied  7950 non-null   float64       \n",
      " 14  Unit Price        7917 non-null   float64       \n",
      " 15  Unit Cost         7938 non-null   float64       \n",
      "dtypes: datetime64[ns](4), float64(7), int64(1), object(4)\n",
      "memory usage: 1.0+ MB\n"
     ]
    }
   ],
   "source": [
    "#Checking the data types of df_orders:\n",
    "\n",
    "df_orders.info()\n",
    "\n",
    "#df_orders contains 4 object-type, 4 datatime-type, 1 int-type, & 7 float type columns\n",
    "#A few of these column contain null values, which we will deal with shortly"
   ]
  },
  {
   "cell_type": "code",
   "execution_count": 246,
   "metadata": {},
   "outputs": [
    {
     "data": {
      "text/html": [
       "<div>\n",
       "<style scoped>\n",
       "    .dataframe tbody tr th:only-of-type {\n",
       "        vertical-align: middle;\n",
       "    }\n",
       "\n",
       "    .dataframe tbody tr th {\n",
       "        vertical-align: top;\n",
       "    }\n",
       "\n",
       "    .dataframe thead th {\n",
       "        text-align: right;\n",
       "    }\n",
       "</style>\n",
       "<table border=\"1\" class=\"dataframe\">\n",
       "  <thead>\n",
       "    <tr style=\"text-align: right;\">\n",
       "      <th></th>\n",
       "      <th>_SalesTeamID</th>\n",
       "      <th>_CustomerID</th>\n",
       "      <th>_StoreID</th>\n",
       "      <th>_ProductID</th>\n",
       "      <th>Order Quantity</th>\n",
       "      <th>Discount Applied</th>\n",
       "      <th>Unit Price</th>\n",
       "      <th>Unit Cost</th>\n",
       "    </tr>\n",
       "  </thead>\n",
       "  <tbody>\n",
       "    <tr>\n",
       "      <th>count</th>\n",
       "      <td>7980.000000</td>\n",
       "      <td>7977.000000</td>\n",
       "      <td>7979.000000</td>\n",
       "      <td>7984.000000</td>\n",
       "      <td>7988.000000</td>\n",
       "      <td>7950.000000</td>\n",
       "      <td>7917.000000</td>\n",
       "      <td>7938.000000</td>\n",
       "    </tr>\n",
       "    <tr>\n",
       "      <th>mean</th>\n",
       "      <td>14.380201</td>\n",
       "      <td>25.453303</td>\n",
       "      <td>183.808748</td>\n",
       "      <td>23.766909</td>\n",
       "      <td>4.525663</td>\n",
       "      <td>0.114509</td>\n",
       "      <td>2284.185462</td>\n",
       "      <td>1430.998585</td>\n",
       "    </tr>\n",
       "    <tr>\n",
       "      <th>std</th>\n",
       "      <td>7.985829</td>\n",
       "      <td>14.413696</td>\n",
       "      <td>105.886461</td>\n",
       "      <td>13.526361</td>\n",
       "      <td>2.312500</td>\n",
       "      <td>0.085716</td>\n",
       "      <td>1672.921164</td>\n",
       "      <td>1112.183602</td>\n",
       "    </tr>\n",
       "    <tr>\n",
       "      <th>min</th>\n",
       "      <td>1.000000</td>\n",
       "      <td>1.000000</td>\n",
       "      <td>1.000000</td>\n",
       "      <td>1.000000</td>\n",
       "      <td>1.000000</td>\n",
       "      <td>0.050000</td>\n",
       "      <td>167.500000</td>\n",
       "      <td>68.675000</td>\n",
       "    </tr>\n",
       "    <tr>\n",
       "      <th>25%</th>\n",
       "      <td>8.000000</td>\n",
       "      <td>13.000000</td>\n",
       "      <td>91.000000</td>\n",
       "      <td>12.000000</td>\n",
       "      <td>3.000000</td>\n",
       "      <td>0.050000</td>\n",
       "      <td>1031.800000</td>\n",
       "      <td>604.591250</td>\n",
       "    </tr>\n",
       "    <tr>\n",
       "      <th>50%</th>\n",
       "      <td>14.000000</td>\n",
       "      <td>25.000000</td>\n",
       "      <td>183.000000</td>\n",
       "      <td>24.000000</td>\n",
       "      <td>5.000000</td>\n",
       "      <td>0.075000</td>\n",
       "      <td>1849.200000</td>\n",
       "      <td>1080.576000</td>\n",
       "    </tr>\n",
       "    <tr>\n",
       "      <th>75%</th>\n",
       "      <td>21.000000</td>\n",
       "      <td>38.000000</td>\n",
       "      <td>276.000000</td>\n",
       "      <td>36.000000</td>\n",
       "      <td>7.000000</td>\n",
       "      <td>0.150000</td>\n",
       "      <td>3611.300000</td>\n",
       "      <td>2039.865250</td>\n",
       "    </tr>\n",
       "    <tr>\n",
       "      <th>max</th>\n",
       "      <td>28.000000</td>\n",
       "      <td>50.000000</td>\n",
       "      <td>367.000000</td>\n",
       "      <td>47.000000</td>\n",
       "      <td>8.000000</td>\n",
       "      <td>0.400000</td>\n",
       "      <td>6566.000000</td>\n",
       "      <td>5498.556000</td>\n",
       "    </tr>\n",
       "  </tbody>\n",
       "</table>\n",
       "</div>"
      ],
      "text/plain": [
       "       _SalesTeamID  _CustomerID     _StoreID   _ProductID  Order Quantity  \\\n",
       "count   7980.000000  7977.000000  7979.000000  7984.000000     7988.000000   \n",
       "mean      14.380201    25.453303   183.808748    23.766909        4.525663   \n",
       "std        7.985829    14.413696   105.886461    13.526361        2.312500   \n",
       "min        1.000000     1.000000     1.000000     1.000000        1.000000   \n",
       "25%        8.000000    13.000000    91.000000    12.000000        3.000000   \n",
       "50%       14.000000    25.000000   183.000000    24.000000        5.000000   \n",
       "75%       21.000000    38.000000   276.000000    36.000000        7.000000   \n",
       "max       28.000000    50.000000   367.000000    47.000000        8.000000   \n",
       "\n",
       "       Discount Applied   Unit Price    Unit Cost  \n",
       "count       7950.000000  7917.000000  7938.000000  \n",
       "mean           0.114509  2284.185462  1430.998585  \n",
       "std            0.085716  1672.921164  1112.183602  \n",
       "min            0.050000   167.500000    68.675000  \n",
       "25%            0.050000  1031.800000   604.591250  \n",
       "50%            0.075000  1849.200000  1080.576000  \n",
       "75%            0.150000  3611.300000  2039.865250  \n",
       "max            0.400000  6566.000000  5498.556000  "
      ]
     },
     "execution_count": 246,
     "metadata": {},
     "output_type": "execute_result"
    }
   ],
   "source": [
    "#Show summary statistics:\n",
    "\n",
    "df_orders.describe()"
   ]
  },
  {
   "cell_type": "code",
   "execution_count": 247,
   "metadata": {},
   "outputs": [
    {
     "data": {
      "text/html": [
       "<div>\n",
       "<style scoped>\n",
       "    .dataframe tbody tr th:only-of-type {\n",
       "        vertical-align: middle;\n",
       "    }\n",
       "\n",
       "    .dataframe tbody tr th {\n",
       "        vertical-align: top;\n",
       "    }\n",
       "\n",
       "    .dataframe thead th {\n",
       "        text-align: right;\n",
       "    }\n",
       "</style>\n",
       "<table border=\"1\" class=\"dataframe\">\n",
       "  <thead>\n",
       "    <tr style=\"text-align: right;\">\n",
       "      <th></th>\n",
       "      <th>Discount Applied</th>\n",
       "      <th>Order Quantity</th>\n",
       "      <th>Unit Cost</th>\n",
       "      <th>Unit Price</th>\n",
       "    </tr>\n",
       "  </thead>\n",
       "  <tbody>\n",
       "    <tr>\n",
       "      <th>count</th>\n",
       "      <td>7950.000000</td>\n",
       "      <td>7988.000000</td>\n",
       "      <td>7938.000000</td>\n",
       "      <td>7917.000000</td>\n",
       "    </tr>\n",
       "    <tr>\n",
       "      <th>mean</th>\n",
       "      <td>0.114509</td>\n",
       "      <td>4.525663</td>\n",
       "      <td>1430.998585</td>\n",
       "      <td>2284.185462</td>\n",
       "    </tr>\n",
       "    <tr>\n",
       "      <th>std</th>\n",
       "      <td>0.085716</td>\n",
       "      <td>2.312500</td>\n",
       "      <td>1112.183602</td>\n",
       "      <td>1672.921164</td>\n",
       "    </tr>\n",
       "    <tr>\n",
       "      <th>min</th>\n",
       "      <td>0.050000</td>\n",
       "      <td>1.000000</td>\n",
       "      <td>68.675000</td>\n",
       "      <td>167.500000</td>\n",
       "    </tr>\n",
       "    <tr>\n",
       "      <th>25%</th>\n",
       "      <td>0.050000</td>\n",
       "      <td>3.000000</td>\n",
       "      <td>604.591250</td>\n",
       "      <td>1031.800000</td>\n",
       "    </tr>\n",
       "    <tr>\n",
       "      <th>50%</th>\n",
       "      <td>0.075000</td>\n",
       "      <td>5.000000</td>\n",
       "      <td>1080.576000</td>\n",
       "      <td>1849.200000</td>\n",
       "    </tr>\n",
       "    <tr>\n",
       "      <th>75%</th>\n",
       "      <td>0.150000</td>\n",
       "      <td>7.000000</td>\n",
       "      <td>2039.865250</td>\n",
       "      <td>3611.300000</td>\n",
       "    </tr>\n",
       "    <tr>\n",
       "      <th>max</th>\n",
       "      <td>0.400000</td>\n",
       "      <td>8.000000</td>\n",
       "      <td>5498.556000</td>\n",
       "      <td>6566.000000</td>\n",
       "    </tr>\n",
       "  </tbody>\n",
       "</table>\n",
       "</div>"
      ],
      "text/plain": [
       "       Discount Applied  Order Quantity    Unit Cost   Unit Price\n",
       "count       7950.000000     7988.000000  7938.000000  7917.000000\n",
       "mean           0.114509        4.525663  1430.998585  2284.185462\n",
       "std            0.085716        2.312500  1112.183602  1672.921164\n",
       "min            0.050000        1.000000    68.675000   167.500000\n",
       "25%            0.050000        3.000000   604.591250  1031.800000\n",
       "50%            0.075000        5.000000  1080.576000  1849.200000\n",
       "75%            0.150000        7.000000  2039.865250  3611.300000\n",
       "max            0.400000        8.000000  5498.556000  6566.000000"
      ]
     },
     "execution_count": 247,
     "metadata": {},
     "output_type": "execute_result"
    }
   ],
   "source": [
    "#Summary statistics for the ID columns dont make sense, so let's exclude those:\n",
    "\n",
    "df_orders[df_orders.columns.difference(['_SalesTeamID', '_CustomerID','_StoreID','_ProductID'])].describe()"
   ]
  },
  {
   "cell_type": "code",
   "execution_count": 1238,
   "metadata": {
    "scrolled": true
   },
   "outputs": [
    {
     "name": "stdout",
     "output_type": "stream",
     "text": [
      "<class 'pandas.core.frame.DataFrame'>\n",
      "RangeIndex: 50 entries, 0 to 49\n",
      "Data columns (total 2 columns):\n",
      " #   Column          Non-Null Count  Dtype \n",
      "---  ------          --------------  ----- \n",
      " 0   _CustomerID     50 non-null     int64 \n",
      " 1   Customer Names  50 non-null     object\n",
      "dtypes: int64(1), object(1)\n",
      "memory usage: 928.0+ bytes\n"
     ]
    },
    {
     "ename": "AttributeError",
     "evalue": "'DataFrame' object has no attribute 'duplicate'",
     "output_type": "error",
     "traceback": [
      "\u001b[0;31m---------------------------------------------------------------------------\u001b[0m",
      "\u001b[0;31mAttributeError\u001b[0m                            Traceback (most recent call last)",
      "\u001b[0;32m<ipython-input-1238-c76fc6256c32>\u001b[0m in \u001b[0;36m<module>\u001b[0;34m\u001b[0m\n\u001b[1;32m      2\u001b[0m \u001b[0;34m\u001b[0m\u001b[0m\n\u001b[1;32m      3\u001b[0m \u001b[0mdf_cust\u001b[0m\u001b[0;34m.\u001b[0m\u001b[0minfo\u001b[0m\u001b[0;34m(\u001b[0m\u001b[0;34m)\u001b[0m\u001b[0;34m\u001b[0m\u001b[0;34m\u001b[0m\u001b[0m\n\u001b[0;32m----> 4\u001b[0;31m \u001b[0mdf_cust\u001b[0m\u001b[0;34m.\u001b[0m\u001b[0mduplicate\u001b[0m\u001b[0;34m(\u001b[0m\u001b[0;34m)\u001b[0m\u001b[0;34m\u001b[0m\u001b[0;34m\u001b[0m\u001b[0m\n\u001b[0m\u001b[1;32m      5\u001b[0m \u001b[0mdf_loc\u001b[0m\u001b[0;34m.\u001b[0m\u001b[0minfo\u001b[0m\u001b[0;34m(\u001b[0m\u001b[0;34m)\u001b[0m\u001b[0;34m\u001b[0m\u001b[0;34m\u001b[0m\u001b[0m\n\u001b[1;32m      6\u001b[0m \u001b[0mdf_prod\u001b[0m\u001b[0;34m.\u001b[0m\u001b[0minfo\u001b[0m\u001b[0;34m(\u001b[0m\u001b[0;34m)\u001b[0m\u001b[0;34m\u001b[0m\u001b[0;34m\u001b[0m\u001b[0m\n",
      "\u001b[0;32m~/opt/anaconda3/lib/python3.8/site-packages/pandas/core/generic.py\u001b[0m in \u001b[0;36m__getattr__\u001b[0;34m(self, name)\u001b[0m\n\u001b[1;32m   5137\u001b[0m             \u001b[0;32mif\u001b[0m \u001b[0mself\u001b[0m\u001b[0;34m.\u001b[0m\u001b[0m_info_axis\u001b[0m\u001b[0;34m.\u001b[0m\u001b[0m_can_hold_identifiers_and_holds_name\u001b[0m\u001b[0;34m(\u001b[0m\u001b[0mname\u001b[0m\u001b[0;34m)\u001b[0m\u001b[0;34m:\u001b[0m\u001b[0;34m\u001b[0m\u001b[0;34m\u001b[0m\u001b[0m\n\u001b[1;32m   5138\u001b[0m                 \u001b[0;32mreturn\u001b[0m \u001b[0mself\u001b[0m\u001b[0;34m[\u001b[0m\u001b[0mname\u001b[0m\u001b[0;34m]\u001b[0m\u001b[0;34m\u001b[0m\u001b[0;34m\u001b[0m\u001b[0m\n\u001b[0;32m-> 5139\u001b[0;31m             \u001b[0;32mreturn\u001b[0m \u001b[0mobject\u001b[0m\u001b[0;34m.\u001b[0m\u001b[0m__getattribute__\u001b[0m\u001b[0;34m(\u001b[0m\u001b[0mself\u001b[0m\u001b[0;34m,\u001b[0m \u001b[0mname\u001b[0m\u001b[0;34m)\u001b[0m\u001b[0;34m\u001b[0m\u001b[0;34m\u001b[0m\u001b[0m\n\u001b[0m\u001b[1;32m   5140\u001b[0m \u001b[0;34m\u001b[0m\u001b[0m\n\u001b[1;32m   5141\u001b[0m     \u001b[0;32mdef\u001b[0m \u001b[0m__setattr__\u001b[0m\u001b[0;34m(\u001b[0m\u001b[0mself\u001b[0m\u001b[0;34m,\u001b[0m \u001b[0mname\u001b[0m\u001b[0;34m:\u001b[0m \u001b[0mstr\u001b[0m\u001b[0;34m,\u001b[0m \u001b[0mvalue\u001b[0m\u001b[0;34m)\u001b[0m \u001b[0;34m->\u001b[0m \u001b[0;32mNone\u001b[0m\u001b[0;34m:\u001b[0m\u001b[0;34m\u001b[0m\u001b[0;34m\u001b[0m\u001b[0m\n",
      "\u001b[0;31mAttributeError\u001b[0m: 'DataFrame' object has no attribute 'duplicate'"
     ]
    }
   ],
   "source": [
    "#A quick check of the remaining dataframes:\n",
    "\n",
    "df_cust.info()\n",
    "df_cust.duplicated()\n",
    "df_loc.info()\n",
    "df_prod.info()\n",
    "df_region.info()\n",
    "df_team.info()\n",
    "\n",
    "#There are no null values in any of these dataframes. They will be used as needed in later analyses"
   ]
  },
  {
   "cell_type": "markdown",
   "metadata": {},
   "source": [
    "---"
   ]
  },
  {
   "cell_type": "markdown",
   "metadata": {},
   "source": [
    "### 3.) Data Cleaning"
   ]
  },
  {
   "cell_type": "code",
   "execution_count": 254,
   "metadata": {},
   "outputs": [
    {
     "name": "stdout",
     "output_type": "stream",
     "text": [
      "OrderNumber - 0.0%\n",
      "Sales Channel - 0.0017519709673382556%\n",
      "WarehouseCode - 0.0015016894005756476%\n",
      "ProcuredDate - 0.0016268301839569516%\n",
      "OrderDate - 0.0012514078338130396%\n",
      "ShipDate - 0.0010011262670504317%\n",
      "DeliveryDate - 0.0010011262670504317%\n",
      "CurrencyCode - 0.0015016894005756476%\n",
      "_SalesTeamID - 0.0010011262670504317%\n",
      "_CustomerID - 0.0013765486171943436%\n",
      "_StoreID - 0.0011262670504317356%\n",
      "_ProductID - 0.0005005631335252158%\n",
      "Order Quantity - 0.0%\n",
      "Discount Applied - 0.0047553497684895505%\n",
      "Unit Price - 0.008884995620072582%\n",
      "Unit Cost - 0.006257039169065198%\n"
     ]
    }
   ],
   "source": [
    "#Determining percent of missing values in each column:\n",
    "\n",
    "for col in df_orders.columns:\n",
    "    pct_missing = np.mean(df_orders[col].isnull())\n",
    "    print('{} - {}%'.format(col,pct_missing))\n",
    "    \n",
    "#A small amount of data is missing form 14/16 columns "
   ]
  },
  {
   "cell_type": "code",
   "execution_count": 69,
   "metadata": {},
   "outputs": [],
   "source": [
    "#Handling missing values:\n",
    "    #Choices: \n",
    "        #Drop the missing values\n",
    "        #Fill in with mean (for numerical features)\n",
    "        #Fill in with median (for numerical features w/ outliers)\n",
    "        #Fill in with mode (for numerical features)\n",
    "        \n",
    "#Sales Channel - drop row containing missing val \n",
    "#WarehouseCode - drop row containing missing val \n",
    "#OrderDate - drop row containing missing val\n",
    "#ProcuredDate - drop row containing missing val\n",
    "#ShipDate - drop row containing missing val \n",
    "#DeliveryDate - drop row containing missing val \n",
    "#_SalesTeamID - drop row containing missing val\n",
    "#_CustomerID - drop row containing missing val\n",
    "#_StoreID - drop row containing missing val\n",
    "#_ProductID - drop row containing missing val\n",
    "#Discount Applied - Fill in with mean value, median if dist is skewed\n",
    "#Unit Price - Fill in with mean value, median if dist is skewed\n",
    "#Unit Cost - Fill in with mean value, median if dist is skewed"
   ]
  },
  {
   "cell_type": "code",
   "execution_count": 256,
   "metadata": {},
   "outputs": [
    {
     "data": {
      "text/plain": [
       "(7933, 16)"
      ]
     },
     "execution_count": 256,
     "metadata": {},
     "output_type": "execute_result"
    }
   ],
   "source": [
    "#Dropping rows:\n",
    "\n",
    "df_orders = df_orders.dropna(subset=['Sales Channel'])\n",
    "df_orders = df_orders.dropna(subset=['ProcuredDate'])\n",
    "df_orders = df_orders.dropna(subset=['OrderDate'])\n",
    "df_orders = df_orders.dropna(subset=['OrderDate'])\n",
    "df_orders = df_orders.dropna(subset=['ShipDate'])\n",
    "df_orders = df_orders.dropna(subset=['DeliveryDate'])\n",
    "df_orders = df_orders.dropna(subset=['_SalesTeamID'])\n",
    "df_orders = df_orders.dropna(subset=['_CustomerID'])\n",
    "df_orders = df_orders.dropna(subset=['_StoreID'])\n",
    "df_orders = df_orders.dropna(subset=['_ProductID'])\n",
    "df_orders.shape\n",
    "\n",
    "#55 Rows dropped"
   ]
  },
  {
   "cell_type": "code",
   "execution_count": 297,
   "metadata": {
    "scrolled": false
   },
   "outputs": [
    {
     "data": {
      "image/png": "[encoded data removed]",
      "text/plain": [
       "<Figure size 504x360 with 2 Axes>"
      ]
     },
     "metadata": {
      "needs_background": "light"
     },
     "output_type": "display_data"
    }
   ],
   "source": [
    "#Filling in missing values (Discount Applied, Unit Price, Unit Cost) - Checking for outliers\n",
    "\n",
    "#Discount Applied: Outlier and positive skew; use median\n",
    "\n",
    "fig,axes = plt.subplots(nrows=1,ncols=2,figsize=(7,5))\n",
    "plt.tight_layout()\n",
    "\n",
    "sns.boxplot(data=df_orders,y='Discount Applied', \n",
    "                ax=axes[0],fliersize=3)\n",
    "sns.histplot(data=df_orders,x='Discount Applied',bins=10,color='blue',\n",
    "            edgecolor='black', kde = True,\n",
    "            ax=axes[1]);"
   ]
  },
  {
   "cell_type": "code",
   "execution_count": 296,
   "metadata": {
    "scrolled": false
   },
   "outputs": [
    {
     "data": {
      "image/png": "[encoded data removed]",
      "text/plain": [
       "<Figure size 504x360 with 2 Axes>"
      ]
     },
     "metadata": {
      "needs_background": "light"
     },
     "output_type": "display_data"
    }
   ],
   "source": [
    "#Unit Price: Multiple outliers and positive skew; use median\n",
    "\n",
    "fig,axes = plt.subplots(nrows=1,ncols=2,figsize=(7,5))\n",
    "plt.tight_layout()\n",
    "\n",
    "sns.boxplot(data=df_orders,y='Unit Price', \n",
    "                ax=axes[0],fliersize=1.25)\n",
    "sns.histplot(data=df_orders,x='Unit Price',bins=10,color='blue',\n",
    "            edgecolor='black', kde = True,\n",
    "            ax=axes[1]);\n",
    "\n"
   ]
  },
  {
   "cell_type": "code",
   "execution_count": 295,
   "metadata": {},
   "outputs": [
    {
     "data": {
      "image/png": "[encoded data removed]",
      "text/plain": [
       "<Figure size 504x360 with 2 Axes>"
      ]
     },
     "metadata": {
      "needs_background": "light"
     },
     "output_type": "display_data"
    }
   ],
   "source": [
    "#Unit Cost: Multiple outliers and positive skew; use median\n",
    "\n",
    "fig,axes = plt.subplots(nrows=1,ncols=2,figsize=(7,5))\n",
    "plt.tight_layout()\n",
    "\n",
    "sns.boxplot(data=df_orders,y='Unit Cost', \n",
    "                ax=axes[0],fliersize=1.25)\n",
    "sns.histplot(data=df_orders,x='Unit Cost',bins=10,color='blue',\n",
    "            edgecolor='black', kde = True,\n",
    "            ax=axes[1]);\n",
    "\n"
   ]
  },
  {
   "cell_type": "code",
   "execution_count": 209,
   "metadata": {
    "scrolled": false
   },
   "outputs": [
    {
     "data": {
      "text/plain": [
       "OrderNumber         0\n",
       "Sales Channel       0\n",
       "WarehouseCode       0\n",
       "ProcuredDate        0\n",
       "OrderDate           0\n",
       "ShipDate            0\n",
       "DeliveryDate        0\n",
       "CurrencyCode        0\n",
       "_SalesTeamID        0\n",
       "_CustomerID         0\n",
       "_StoreID            0\n",
       "_ProductID          0\n",
       "Order Quantity      0\n",
       "Discount Applied    0\n",
       "Unit Price          0\n",
       "Unit Cost           0\n",
       "dtype: int64"
      ]
     },
     "execution_count": 209,
     "metadata": {},
     "output_type": "execute_result"
    }
   ],
   "source": [
    "#Replacement with median:\n",
    "\n",
    "df_orders['Unit Cost'].fillna((df_orders['Unit Cost'].median()), \n",
    "                              inplace=True)\n",
    "\n",
    "df_orders['Unit Price'].fillna((df_orders['Unit Price'].median()), \n",
    "                              inplace=True)\n",
    "\n",
    "df_orders['Discount Applied'].fillna((df_orders['Discount Applied'].median()), \n",
    "                              inplace=True)\n",
    "df_orders.isnull().sum()"
   ]
  },
  {
   "cell_type": "code",
   "execution_count": 236,
   "metadata": {
    "scrolled": true
   },
   "outputs": [
    {
     "name": "stdout",
     "output_type": "stream",
     "text": [
      "0\n"
     ]
    },
    {
     "data": {
      "text/html": [
       "<div>\n",
       "<style scoped>\n",
       "    .dataframe tbody tr th:only-of-type {\n",
       "        vertical-align: middle;\n",
       "    }\n",
       "\n",
       "    .dataframe tbody tr th {\n",
       "        vertical-align: top;\n",
       "    }\n",
       "\n",
       "    .dataframe thead th {\n",
       "        text-align: right;\n",
       "    }\n",
       "</style>\n",
       "<table border=\"1\" class=\"dataframe\">\n",
       "  <thead>\n",
       "    <tr style=\"text-align: right;\">\n",
       "      <th></th>\n",
       "      <th>OrderNumber</th>\n",
       "      <th>Sales Channel</th>\n",
       "      <th>WarehouseCode</th>\n",
       "      <th>ProcuredDate</th>\n",
       "      <th>OrderDate</th>\n",
       "      <th>ShipDate</th>\n",
       "      <th>DeliveryDate</th>\n",
       "      <th>CurrencyCode</th>\n",
       "      <th>_SalesTeamID</th>\n",
       "      <th>_CustomerID</th>\n",
       "      <th>_StoreID</th>\n",
       "      <th>_ProductID</th>\n",
       "      <th>Order Quantity</th>\n",
       "      <th>Discount Applied</th>\n",
       "      <th>Unit Price</th>\n",
       "      <th>Unit Cost</th>\n",
       "    </tr>\n",
       "  </thead>\n",
       "  <tbody>\n",
       "  </tbody>\n",
       "</table>\n",
       "</div>"
      ],
      "text/plain": [
       "Empty DataFrame\n",
       "Columns: [OrderNumber, Sales Channel, WarehouseCode, ProcuredDate, OrderDate, ShipDate, DeliveryDate, CurrencyCode, _SalesTeamID, _CustomerID, _StoreID, _ProductID, Order Quantity, Discount Applied, Unit Price, Unit Cost]\n",
       "Index: []"
      ]
     },
     "execution_count": 236,
     "metadata": {},
     "output_type": "execute_result"
    }
   ],
   "source": [
    "#Check for duplicate data:\n",
    "\n",
    "duplicate = df_orders.duplicated()\n",
    "print(duplicate.sum())\n",
    "df_orders[duplicate]\n",
    "\n",
    "#None found"
   ]
  },
  {
   "cell_type": "markdown",
   "metadata": {},
   "source": [
    "---"
   ]
  },
  {
   "cell_type": "markdown",
   "metadata": {},
   "source": [
    "### 4.) Univariate Analysis"
   ]
  },
  {
   "cell_type": "code",
   "execution_count": null,
   "metadata": {},
   "outputs": [],
   "source": []
  }
 ],
 "metadata": {
  "kernelspec": {
   "display_name": "Python 3",
   "language": "python",
   "name": "python3"
  },
  "language_info": {
   "codemirror_mode": {
    "name": "ipython",
    "version": 3
   },
   "file_extension": ".py",
   "mimetype": "text/x-python",
   "name": "python",
   "nbconvert_exporter": "python",
   "pygments_lexer": "ipython3",
   "version": "3.8.5"
  }
 },
 "nbformat": 4,
 "nbformat_minor": 4
}
